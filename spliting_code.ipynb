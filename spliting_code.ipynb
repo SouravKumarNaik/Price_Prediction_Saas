{
 "cells": [
  {
   "cell_type": "code",
   "execution_count": 5,
   "id": "cd494697",
   "metadata": {},
   "outputs": [],
   "source": [
    "import pandas as pd\n",
    "from sklearn.model_selection import train_test_split\n",
    "\n",
    "def split_csv_train_test(input_file, train_file, test_file, test_size=0.2, random_state=None):\n",
    "    # Read the input CSV file\n",
    "    df = pd.read_csv(input_file)\n",
    "    \n",
    "    # Split the DataFrame into train and test sets\n",
    "    train_df, test_df = train_test_split(df, test_size=test_size, random_state=random_state)\n",
    "    \n",
    "    # Save the train and test sets to separate CSV files\n",
    "    train_df.to_csv(train_file, index=False)\n",
    "    test_df.to_csv(test_file, index=False)\n",
    "\n",
    "# Example usage\n",
    "split_csv_train_test('saas_pricing_4.csv', 'train.csv', 'test.csv', test_size=0.2, random_state=42)"
   ]
  },
  {
   "cell_type": "code",
   "execution_count": null,
   "id": "1403439c",
   "metadata": {},
   "outputs": [],
   "source": []
  }
 ],
 "metadata": {
  "kernelspec": {
   "display_name": "Python 3 (ipykernel)",
   "language": "python",
   "name": "python3"
  },
  "language_info": {
   "codemirror_mode": {
    "name": "ipython",
    "version": 3
   },
   "file_extension": ".py",
   "mimetype": "text/x-python",
   "name": "python",
   "nbconvert_exporter": "python",
   "pygments_lexer": "ipython3",
   "version": "3.10.9"
  }
 },
 "nbformat": 4,
 "nbformat_minor": 5
}
